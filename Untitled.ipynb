{
 "cells": [
  {
   "cell_type": "code",
   "execution_count": 6,
   "metadata": {},
   "outputs": [],
   "source": [
    "import os\n",
    "import pandas as pd\n",
    "from google.cloud import bigquery, bigquery_storage\n",
    "os.environ['GOOGLE_APPLICATION_CREDENTIALS'] = './credentials.json'"
   ]
  },
  {
   "cell_type": "code",
   "execution_count": 7,
   "metadata": {},
   "outputs": [],
   "source": [
    "bqclient = bigquery.Client(project='rapsodie')\n",
    "bqstorageclient = bigquery_storage.BigQueryReadClient()"
   ]
  },
  {
   "cell_type": "code",
   "execution_count": 9,
   "metadata": {},
   "outputs": [
    {
     "name": "stdout",
     "output_type": "stream",
     "text": [
      "                     latest_release_uri\n",
      "0  spotify:album:5K5hNtLCiltzxrKaJaYsLT\n",
      "1  spotify:album:38a9n5auEvTvYSuhQoaeOy\n",
      "2  spotify:album:7eB8jSc6Hf0lPqkPvHmQEP\n",
      "3  spotify:album:0wX5oWdt25RBvKdlIgZoph\n",
      "4  spotify:album:4RYxGH1SSAtK7fzUJd853c\n"
     ]
    }
   ],
   "source": [
    "query_string = \"\"\"\n",
    "SELECT latest_release_uri FROM `rapsodie.rapsodie_main.spotify_artist_page` as sap\n",
    "where  DATE_DIFF(CURRENT_DATE ()\n",
    "            , sap.latest_release_date \n",
    "            , DAY) <= 30\n",
    "and sap.monthly_listeners <= 10000\n",
    "\"\"\"\n",
    "\n",
    "dataframe = (\n",
    "    bqclient.query(query_string)\n",
    "    .result()\n",
    "    .to_dataframe(bqstorage_client=bqstorageclient)\n",
    ")\n",
    "print(dataframe.head())"
   ]
  },
  {
   "cell_type": "code",
   "execution_count": null,
   "metadata": {},
   "outputs": [],
   "source": []
  }
 ],
 "metadata": {
  "kernelspec": {
   "display_name": "Python 3",
   "language": "python",
   "name": "python3"
  },
  "language_info": {
   "codemirror_mode": {
    "name": "ipython",
    "version": 3
   },
   "file_extension": ".py",
   "mimetype": "text/x-python",
   "name": "python",
   "nbconvert_exporter": "python",
   "pygments_lexer": "ipython3",
   "version": "3.8.2"
  }
 },
 "nbformat": 4,
 "nbformat_minor": 4
}
